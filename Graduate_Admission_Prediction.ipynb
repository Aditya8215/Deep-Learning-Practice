{
  "metadata": {
    "kernelspec": {
      "language": "python",
      "display_name": "Python 3",
      "name": "python3"
    },
    "language_info": {
      "name": "python",
      "version": "3.11.11",
      "mimetype": "text/x-python",
      "codemirror_mode": {
        "name": "ipython",
        "version": 3
      },
      "pygments_lexer": "ipython3",
      "nbconvert_exporter": "python",
      "file_extension": ".py"
    },
    "kaggle": {
      "accelerator": "none",
      "dataSources": [
        {
          "sourceId": 228180,
          "sourceType": "datasetVersion",
          "datasetId": 14872
        }
      ],
      "dockerImageVersionId": 31040,
      "isInternetEnabled": false,
      "language": "python",
      "sourceType": "notebook",
      "isGpuEnabled": false
    },
    "colab": {
      "provenance": [],
      "include_colab_link": true
    }
  },
  "nbformat_minor": 0,
  "nbformat": 4,
  "cells": [
    {
      "cell_type": "markdown",
      "metadata": {
        "id": "view-in-github",
        "colab_type": "text"
      },
      "source": [
        "<a href=\"https://colab.research.google.com/github/Aditya8215/Deep-Learning-Practice/blob/main/Graduate_Admission_Prediction.ipynb\" target=\"_parent\"><img src=\"https://colab.research.google.com/assets/colab-badge.svg\" alt=\"Open In Colab\"/></a>"
      ]
    },
    {
      "source": [
        "# IMPORTANT: RUN THIS CELL IN ORDER TO IMPORT YOUR KAGGLE DATA SOURCES,\n",
        "# THEN FEEL FREE TO DELETE THIS CELL.\n",
        "# NOTE: THIS NOTEBOOK ENVIRONMENT DIFFERS FROM KAGGLE'S PYTHON\n",
        "# ENVIRONMENT SO THERE MAY BE MISSING LIBRARIES USED BY YOUR\n",
        "# NOTEBOOK.\n",
        "import kagglehub\n",
        "mohansacharya_graduate_admissions_path = kagglehub.dataset_download('mohansacharya/graduate-admissions')\n",
        "\n",
        "print('Data source import complete.')\n"
      ],
      "metadata": {
        "id": "1JwG6fk2QQlh"
      },
      "cell_type": "code",
      "outputs": [],
      "execution_count": null
    },
    {
      "cell_type": "code",
      "source": [
        "# This Python 3 environment comes with many helpful analytics libraries installed\n",
        "# It is defined by the kaggle/python Docker image: https://github.com/kaggle/docker-python\n",
        "# For example, here's several helpful packages to load\n",
        "\n",
        "import numpy as np # linear algebra\n",
        "import pandas as pd # data processing, CSV file I/O (e.g. pd.read_csv)\n",
        "\n",
        "# Input data files are available in the read-only \"../input/\" directory\n",
        "# For example, running this (by clicking run or pressing Shift+Enter) will list all files under the input directory\n",
        "\n",
        "import os\n",
        "for dirname, _, filenames in os.walk('/kaggle/input'):\n",
        "    for filename in filenames:\n",
        "        print(os.path.join(dirname, filename))\n",
        "\n",
        "# You can write up to 20GB to the current directory (/kaggle/working/) that gets preserved as output when you create a version using \"Save & Run All\"\n",
        "# You can also write temporary files to /kaggle/temp/, but they won't be saved outside of the current session"
      ],
      "metadata": {
        "_uuid": "8f2839f25d086af736a60e9eeb907d3b93b6e0e5",
        "_cell_guid": "b1076dfc-b9ad-4769-8c92-a6c4dae69d19",
        "trusted": true,
        "execution": {
          "iopub.status.busy": "2025-06-07T12:14:35.624397Z",
          "iopub.execute_input": "2025-06-07T12:14:35.624701Z",
          "iopub.status.idle": "2025-06-07T12:14:35.642749Z",
          "shell.execute_reply.started": "2025-06-07T12:14:35.624677Z",
          "shell.execute_reply": "2025-06-07T12:14:35.641661Z"
        },
        "id": "TAln4I9dQQlj"
      },
      "outputs": [],
      "execution_count": null
    },
    {
      "cell_type": "code",
      "source": [
        "df=pd.read_csv('/kaggle/input/graduate-admissions/Admission_Predict_Ver1.1.csv')\n",
        "df.head()"
      ],
      "metadata": {
        "trusted": true,
        "execution": {
          "iopub.status.busy": "2025-06-07T12:14:35.644401Z",
          "iopub.execute_input": "2025-06-07T12:14:35.644733Z",
          "iopub.status.idle": "2025-06-07T12:14:35.663499Z",
          "shell.execute_reply.started": "2025-06-07T12:14:35.644706Z",
          "shell.execute_reply": "2025-06-07T12:14:35.662409Z"
        },
        "id": "I6VEtFbjQQlj"
      },
      "outputs": [],
      "execution_count": null
    },
    {
      "cell_type": "code",
      "source": [
        "df.info()"
      ],
      "metadata": {
        "trusted": true,
        "execution": {
          "iopub.status.busy": "2025-06-07T12:14:35.664492Z",
          "iopub.execute_input": "2025-06-07T12:14:35.664746Z",
          "iopub.status.idle": "2025-06-07T12:14:35.676565Z",
          "shell.execute_reply.started": "2025-06-07T12:14:35.664725Z",
          "shell.execute_reply": "2025-06-07T12:14:35.675354Z"
        },
        "id": "tQcLJXajQQlk"
      },
      "outputs": [],
      "execution_count": null
    },
    {
      "cell_type": "code",
      "source": [
        "df.duplicated().sum()"
      ],
      "metadata": {
        "trusted": true,
        "execution": {
          "iopub.status.busy": "2025-06-07T12:14:35.682741Z",
          "iopub.execute_input": "2025-06-07T12:14:35.683334Z",
          "iopub.status.idle": "2025-06-07T12:14:35.696982Z",
          "shell.execute_reply.started": "2025-06-07T12:14:35.6833Z",
          "shell.execute_reply": "2025-06-07T12:14:35.695923Z"
        },
        "id": "6dcD8sQxQQlk"
      },
      "outputs": [],
      "execution_count": null
    },
    {
      "cell_type": "code",
      "source": [
        "import matplotlib.pyplot as plt\n",
        "import seaborn as sns"
      ],
      "metadata": {
        "trusted": true,
        "execution": {
          "iopub.status.busy": "2025-06-07T12:14:35.698008Z",
          "iopub.execute_input": "2025-06-07T12:14:35.698264Z",
          "iopub.status.idle": "2025-06-07T12:14:35.712558Z",
          "shell.execute_reply.started": "2025-06-07T12:14:35.698245Z",
          "shell.execute_reply": "2025-06-07T12:14:35.711574Z"
        },
        "id": "AGg8n4h0QQlk"
      },
      "outputs": [],
      "execution_count": null
    },
    {
      "cell_type": "code",
      "source": [
        "for column in df.columns:\n",
        "    sns.displot(df[column])\n",
        "    plt.title(column)\n",
        "    plt.show()"
      ],
      "metadata": {
        "trusted": true,
        "execution": {
          "iopub.status.busy": "2025-06-07T12:14:35.71346Z",
          "iopub.execute_input": "2025-06-07T12:14:35.71372Z",
          "iopub.status.idle": "2025-06-07T12:14:38.64473Z",
          "shell.execute_reply.started": "2025-06-07T12:14:35.7137Z",
          "shell.execute_reply": "2025-06-07T12:14:38.643198Z"
        },
        "id": "nadRKAGOQQll"
      },
      "outputs": [],
      "execution_count": null
    },
    {
      "cell_type": "code",
      "source": [
        "x=df.iloc[:,1:-1]\n",
        "y=df.iloc[:,-1]"
      ],
      "metadata": {
        "trusted": true,
        "execution": {
          "iopub.status.busy": "2025-06-07T12:14:38.646072Z",
          "iopub.execute_input": "2025-06-07T12:14:38.646391Z",
          "iopub.status.idle": "2025-06-07T12:14:38.652971Z",
          "shell.execute_reply.started": "2025-06-07T12:14:38.646362Z",
          "shell.execute_reply": "2025-06-07T12:14:38.652041Z"
        },
        "id": "Q90DeLquQQll"
      },
      "outputs": [],
      "execution_count": null
    },
    {
      "cell_type": "code",
      "source": [
        "from sklearn.model_selection import train_test_split\n",
        "x_train,x_test,y_train,y_test=train_test_split(x,y,test_size=0.2,random_state=1)"
      ],
      "metadata": {
        "trusted": true,
        "execution": {
          "iopub.status.busy": "2025-06-07T12:14:38.655832Z",
          "iopub.execute_input": "2025-06-07T12:14:38.656123Z",
          "iopub.status.idle": "2025-06-07T12:14:38.671845Z",
          "shell.execute_reply.started": "2025-06-07T12:14:38.656096Z",
          "shell.execute_reply": "2025-06-07T12:14:38.670748Z"
        },
        "id": "9dqBm5fxQQlm"
      },
      "outputs": [],
      "execution_count": null
    },
    {
      "cell_type": "code",
      "source": [
        "x_test"
      ],
      "metadata": {
        "trusted": true,
        "execution": {
          "iopub.status.busy": "2025-06-07T12:14:38.673315Z",
          "iopub.execute_input": "2025-06-07T12:14:38.673671Z",
          "iopub.status.idle": "2025-06-07T12:14:38.701893Z",
          "shell.execute_reply.started": "2025-06-07T12:14:38.67364Z",
          "shell.execute_reply": "2025-06-07T12:14:38.700977Z"
        },
        "id": "_kgZDB1zQQlm"
      },
      "outputs": [],
      "execution_count": null
    },
    {
      "cell_type": "code",
      "source": [
        "from sklearn.preprocessing import MinMaxScaler\n",
        "scaler=MinMaxScaler()\n",
        "\n",
        "x_train_scaled=scaler.fit_transform(x_train)\n",
        "x_test_scaled=scaler.transform(x_test)"
      ],
      "metadata": {
        "trusted": true,
        "execution": {
          "iopub.status.busy": "2025-06-07T12:14:38.702816Z",
          "iopub.execute_input": "2025-06-07T12:14:38.703125Z",
          "iopub.status.idle": "2025-06-07T12:14:38.72466Z",
          "shell.execute_reply.started": "2025-06-07T12:14:38.703105Z",
          "shell.execute_reply": "2025-06-07T12:14:38.723121Z"
        },
        "id": "Mpn7qqCnQQlm"
      },
      "outputs": [],
      "execution_count": null
    },
    {
      "cell_type": "code",
      "source": [
        "import tensorflow\n",
        "from tensorflow import keras\n",
        "from tensorflow.keras import Sequential\n",
        "from tensorflow.keras.layers import Dense"
      ],
      "metadata": {
        "trusted": true,
        "execution": {
          "iopub.status.busy": "2025-06-07T12:14:38.725924Z",
          "iopub.execute_input": "2025-06-07T12:14:38.726306Z",
          "iopub.status.idle": "2025-06-07T12:14:38.742622Z",
          "shell.execute_reply.started": "2025-06-07T12:14:38.726274Z",
          "shell.execute_reply": "2025-06-07T12:14:38.741378Z"
        },
        "id": "eYEIJcbsQQln"
      },
      "outputs": [],
      "execution_count": null
    },
    {
      "cell_type": "code",
      "source": [
        "model=Sequential()\n",
        "model.add(Dense(14,activation='relu',input_dim=7))\n",
        "model.add(Dense(14,activation='relu'))\n",
        "model.add(Dense(14,activation='relu'))\n",
        "model.add(Dense(1,activation='linear'))"
      ],
      "metadata": {
        "trusted": true,
        "execution": {
          "iopub.status.busy": "2025-06-07T12:16:26.225132Z",
          "iopub.execute_input": "2025-06-07T12:16:26.225513Z",
          "iopub.status.idle": "2025-06-07T12:16:26.278846Z",
          "shell.execute_reply.started": "2025-06-07T12:16:26.225488Z",
          "shell.execute_reply": "2025-06-07T12:16:26.277789Z"
        },
        "id": "VtQQAo-GQQln"
      },
      "outputs": [],
      "execution_count": null
    },
    {
      "cell_type": "code",
      "source": [
        "model.summary()"
      ],
      "metadata": {
        "trusted": true,
        "execution": {
          "iopub.status.busy": "2025-06-07T12:16:26.380544Z",
          "iopub.execute_input": "2025-06-07T12:16:26.3809Z",
          "iopub.status.idle": "2025-06-07T12:16:26.399088Z",
          "shell.execute_reply.started": "2025-06-07T12:16:26.380875Z",
          "shell.execute_reply": "2025-06-07T12:16:26.398237Z"
        },
        "id": "YaT-PH-3QQln"
      },
      "outputs": [],
      "execution_count": null
    },
    {
      "cell_type": "code",
      "source": [
        "model.compile(loss='mean_squared_error',optimizer='Adam')"
      ],
      "metadata": {
        "trusted": true,
        "execution": {
          "iopub.status.busy": "2025-06-07T12:16:26.502838Z",
          "iopub.execute_input": "2025-06-07T12:16:26.503147Z",
          "iopub.status.idle": "2025-06-07T12:16:26.514966Z",
          "shell.execute_reply.started": "2025-06-07T12:16:26.503127Z",
          "shell.execute_reply": "2025-06-07T12:16:26.513797Z"
        },
        "id": "JJ797L4mQQln"
      },
      "outputs": [],
      "execution_count": null
    },
    {
      "cell_type": "code",
      "source": [
        "history=model.fit(x_train_scaled,y_train,epochs=150,validation_split=0.2,verbose=1)"
      ],
      "metadata": {
        "trusted": true,
        "execution": {
          "iopub.status.busy": "2025-06-07T12:16:26.733141Z",
          "iopub.execute_input": "2025-06-07T12:16:26.733483Z",
          "iopub.status.idle": "2025-06-07T12:16:46.209254Z",
          "shell.execute_reply.started": "2025-06-07T12:16:26.733461Z",
          "shell.execute_reply": "2025-06-07T12:16:46.208251Z"
        },
        "id": "xZKLpuatQQln"
      },
      "outputs": [],
      "execution_count": null
    },
    {
      "cell_type": "code",
      "source": [
        "y_pred=model.predict(x_test_scaled)"
      ],
      "metadata": {
        "trusted": true,
        "execution": {
          "iopub.status.busy": "2025-06-07T12:16:46.21116Z",
          "iopub.execute_input": "2025-06-07T12:16:46.21148Z",
          "iopub.status.idle": "2025-06-07T12:16:46.439036Z",
          "shell.execute_reply.started": "2025-06-07T12:16:46.211458Z",
          "shell.execute_reply": "2025-06-07T12:16:46.43827Z"
        },
        "id": "0f8fb_heQQln"
      },
      "outputs": [],
      "execution_count": null
    },
    {
      "cell_type": "code",
      "source": [
        "from sklearn.metrics import r2_score\n",
        "r2_score(y_test,y_pred)"
      ],
      "metadata": {
        "trusted": true,
        "execution": {
          "iopub.status.busy": "2025-06-07T12:16:46.440106Z",
          "iopub.execute_input": "2025-06-07T12:16:46.440368Z",
          "iopub.status.idle": "2025-06-07T12:16:46.44742Z",
          "shell.execute_reply.started": "2025-06-07T12:16:46.440343Z",
          "shell.execute_reply": "2025-06-07T12:16:46.446518Z"
        },
        "id": "dWyNt31UQQln"
      },
      "outputs": [],
      "execution_count": null
    },
    {
      "cell_type": "code",
      "source": [
        "plt.plot(history.history['loss'])\n",
        "plt.plot(history.history['val_loss'])"
      ],
      "metadata": {
        "trusted": true,
        "execution": {
          "iopub.status.busy": "2025-06-07T12:16:46.449491Z",
          "iopub.execute_input": "2025-06-07T12:16:46.44992Z",
          "iopub.status.idle": "2025-06-07T12:16:46.639252Z",
          "shell.execute_reply.started": "2025-06-07T12:16:46.449887Z",
          "shell.execute_reply": "2025-06-07T12:16:46.63833Z"
        },
        "id": "OOPXmI4rQQln"
      },
      "outputs": [],
      "execution_count": null
    },
    {
      "cell_type": "code",
      "source": [],
      "metadata": {
        "trusted": true,
        "id": "qGtrkbbJQQln"
      },
      "outputs": [],
      "execution_count": null
    },
    {
      "cell_type": "code",
      "source": [],
      "metadata": {
        "trusted": true,
        "id": "daG2rz1LQQlo"
      },
      "outputs": [],
      "execution_count": null
    },
    {
      "cell_type": "code",
      "source": [],
      "metadata": {
        "trusted": true,
        "id": "2N6q_2mCQQlo"
      },
      "outputs": [],
      "execution_count": null
    },
    {
      "cell_type": "code",
      "source": [],
      "metadata": {
        "trusted": true,
        "id": "vSoFV1k4QQlo"
      },
      "outputs": [],
      "execution_count": null
    },
    {
      "cell_type": "code",
      "source": [],
      "metadata": {
        "trusted": true,
        "id": "11R_4o8SQQlo"
      },
      "outputs": [],
      "execution_count": null
    }
  ]
}